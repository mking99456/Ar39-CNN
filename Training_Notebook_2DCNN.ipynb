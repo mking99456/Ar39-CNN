{
 "cells": [
  {
   "cell_type": "code",
   "execution_count": 1,
   "id": "11f2235d-23d3-4b53-b3a8-0772c1d9cbf0",
   "metadata": {},
   "outputs": [],
   "source": [
    "import torch\n",
    "import numpy as np\n",
    "from torch.utils.data import Dataset, DataLoader"
   ]
  },
  {
   "cell_type": "code",
   "execution_count": null,
   "id": "01591c5c-c401-4379-b108-6f4f0927fe3f",
   "metadata": {},
   "outputs": [],
   "source": [
    "class ROIDataset(Dataset):\n",
    "    def __init__(self, signal_noise_path, roi_path, indices):\n",
    "        self.signal_noise = np.memmap(signal_noise_path, dtype=np.float32, mode='r', shape=(1000, 1280, 2128))\n",
    "        self.roi = np.load(roi_path, mmap_mode='r')  # mmap for efficiency\n",
    "        self.indices = indices  # Define which samples to use\n",
    "\n",
    "    def __len__(self):\n",
    "        return len(self.indices)\n",
    "\n",
    "    def __getitem__(self, idx):\n",
    "        index = self.indices[idx]\n",
    "        x = torch.tensor(self.signal_noise[index], dtype=torch.float32).unsqueeze(0)  # Add channel dim\n",
    "        y = torch.tensor(self.roi[index], dtype=torch.float32).unsqueeze(0)\n",
    "        return x, y\n",
    "\n",
    "# Create dataset splits\n",
    "train_indices = list(range(0, 700))\n",
    "val_indices = list(range(700, 850))\n",
    "test_indices = list(range(850, 1000))\n",
    "\n",
    "train_dataset = ROIDataset(\"noise.raw\", \"roi.npy\", train_indices)\n",
    "val_dataset = ROIDataset(\"noise.raw\", \"roi.npy\", val_indices)\n",
    "test_dataset = ROIDataset(\"noise.raw\", \"roi.npy\", test_indices)\n",
    "\n",
    "train_loader = DataLoader(train_dataset, batch_size=16, shuffle=True)\n",
    "val_loader = DataLoader(val_dataset, batch_size=16, shuffle=False)\n",
    "test_loader = DataLoader(test_dataset, batch_size=16, shuffle=False)"
   ]
  },
  {
   "cell_type": "code",
   "execution_count": null,
   "id": "af0b4edb-346e-468b-96e8-7f9e4b74babe",
   "metadata": {},
   "outputs": [],
   "source": [
    "import torch.nn as nn\n",
    "import torch.optim as optim"
   ]
  },
  {
   "cell_type": "code",
   "execution_count": null,
   "id": "a7b9075b-120c-4024-9457-61855e19efba",
   "metadata": {},
   "outputs": [],
   "source": [
    "class ROIFinder(nn.Module):\n",
    "    def __init__(self):\n",
    "        super(ROIFinder, self).__init__()\n",
    "        self.conv1 = nn.Conv2d(1, 16, kernel_size=3, padding=1)\n",
    "        self.conv2 = nn.Conv2d(16, 32, kernel_size=3, padding=1)\n",
    "        self.conv3 = nn.Conv2d(32, 1, kernel_size=3, padding=1)\n",
    "        self.relu = nn.ReLU()\n",
    "        self.sigmoid = nn.Sigmoid()\n",
    "\n",
    "    def forward(self, x):\n",
    "        x = self.relu(self.conv1(x))\n",
    "        x = self.relu(self.conv2(x))\n",
    "        x = self.sigmoid(self.conv3(x))  # Binary classification (signal present or not)\n",
    "        return x\n",
    "\n",
    "model = ROIFinder().cuda()\n",
    "criterion = nn.BCELoss()\n",
    "optimizer = optim.Adam(model.parameters(), lr=0.001)"
   ]
  },
  {
   "cell_type": "code",
   "execution_count": null,
   "id": "49355439-3092-4989-b60f-1b10ba74e10d",
   "metadata": {},
   "outputs": [],
   "source": [
    "import matplotlib.pyplot as plt\n",
    "\n",
    "def train_roi_finder(model, train_loader, val_loader, criterion, optimizer, epochs=10):\n",
    "    train_losses = []\n",
    "    val_losses = []\n",
    "\n",
    "    for epoch in range(epochs):\n",
    "        model.train()\n",
    "        total_train_loss = 0\n",
    "\n",
    "        for inputs, targets in train_loader:\n",
    "            inputs, targets = inputs.cuda(), targets.cuda()\n",
    "            \n",
    "            optimizer.zero_grad()\n",
    "            outputs = model(inputs)\n",
    "            loss = criterion(outputs, targets)\n",
    "            loss.backward()\n",
    "            optimizer.step()\n",
    "            \n",
    "            total_train_loss += loss.item()\n",
    "\n",
    "        avg_train_loss = total_train_loss / len(train_loader)\n",
    "        avg_val_loss = evaluate(model, val_loader, criterion)\n",
    "\n",
    "        train_losses.append(avg_train_loss)\n",
    "        val_losses.append(avg_val_loss)\n",
    "\n",
    "        print(f\"Epoch {epoch+1}/{epochs}, Train Loss: {avg_train_loss:.4f}, Val Loss: {avg_val_loss:.4f}\")\n",
    "\n",
    "    # Plot Training vs Validation Loss\n",
    "    plt.plot(range(1, epochs+1), train_losses, label=\"Train Loss\")\n",
    "    plt.plot(range(1, epochs+1), val_losses, label=\"Val Loss\")\n",
    "    plt.xlabel(\"Epochs\")\n",
    "    plt.ylabel(\"Loss\")\n",
    "    plt.legend()\n",
    "    plt.title(\"Training & Validation Loss Over Epochs\")\n",
    "    plt.show()\n",
    "\n",
    "def evaluate(model, loader, criterion):\n",
    "    model.eval()\n",
    "    total_loss = 0\n",
    "    with torch.no_grad():\n",
    "        for inputs, targets in loader:\n",
    "            inputs, targets = inputs.cuda(), targets.cuda()\n",
    "            outputs = model(inputs)\n",
    "            loss = criterion(outputs, targets)\n",
    "            total_loss += loss.item()\n",
    "    return total_loss / len(loader)\n",
    "\n",
    "# Run training\n",
    "train_roi_finder(model, train_loader, val_loader, criterion, optimizer, epochs=10)"
   ]
  },
  {
   "cell_type": "code",
   "execution_count": null,
   "id": "79447c49-2640-4930-b0a2-ffb0745c7677",
   "metadata": {},
   "outputs": [],
   "source": [
    "class Autoencoder(nn.Module):\n",
    "    def __init__(self):\n",
    "        super(Autoencoder, self).__init__()\n",
    "        self.encoder = nn.Sequential(\n",
    "            nn.Conv2d(1, 16, kernel_size=3, stride=2, padding=1),\n",
    "            nn.ReLU(),\n",
    "            nn.Conv2d(16, 32, kernel_size=3, stride=2, padding=1),\n",
    "            nn.ReLU()\n",
    "        )\n",
    "        \n",
    "        self.decoder = nn.Sequential(\n",
    "            nn.ConvTranspose2d(32, 16, kernel_size=3, stride=2, padding=1, output_padding=1),\n",
    "            nn.ReLU(),\n",
    "            nn.ConvTranspose2d(16, 1, kernel_size=3, stride=2, padding=1, output_padding=1),\n",
    "            nn.Sigmoid()\n",
    "        )\n",
    "\n",
    "    def forward(self, x):\n",
    "        encoded = self.encoder(x)\n",
    "        decoded = self.decoder(encoded)\n",
    "        return decoded\n",
    "\n",
    "autoencoder = Autoencoder().cuda()\n",
    "ae_criterion = nn.MSELoss()\n",
    "ae_optimizer = optim.Adam(autoencoder.parameters(), lr=0.001)"
   ]
  },
  {
   "cell_type": "code",
   "execution_count": null,
   "id": "740bc8b0-e4c4-47e6-be66-0df0963e637d",
   "metadata": {},
   "outputs": [],
   "source": [
    "def train_autoencoder(model, train_loader, val_loader, criterion, optimizer, epochs=10):\n",
    "    model.train()\n",
    "    for epoch in range(epochs):\n",
    "        total_loss = 0\n",
    "        for inputs, _ in train_loader:  # Only need input (no target)\n",
    "            inputs = inputs.cuda()\n",
    "            \n",
    "            optimizer.zero_grad()\n",
    "            outputs = model(inputs)\n",
    "            loss = criterion(outputs, inputs)  # Try to reconstruct the input\n",
    "            loss.backward()\n",
    "            optimizer.step()\n",
    "            \n",
    "            total_loss += loss.item()\n",
    "\n",
    "        val_loss = evaluate(model, val_loader, criterion)\n",
    "        print(f\"Epoch {epoch+1}/{epochs}, Train Loss: {total_loss/len(train_loader)}, Val Loss: {val_loss}\")\n",
    "\n",
    "train_autoencoder(autoencoder, train_loader, val_loader, ae_criterion, ae_optimizer, epochs=10)"
   ]
  },
  {
   "cell_type": "code",
   "execution_count": null,
   "id": "56a5095a-3a18-459a-b85c-934fdaeff4bd",
   "metadata": {},
   "outputs": [],
   "source": [
    "import matplotlib.pyplot as plt\n",
    "\n",
    "def visualize_reconstruction(model, test_loader):\n",
    "    model.eval()\n",
    "    with torch.no_grad():\n",
    "        for inputs, _ in test_loader:\n",
    "            inputs = inputs.cuda()\n",
    "            outputs = model(inputs)\n",
    "            break  # Take the first batch\n",
    "\n",
    "    inputs = inputs.cpu().numpy()[0, 0]  # Convert back to NumPy\n",
    "    outputs = outputs.cpu().numpy()[0, 0]\n",
    "\n",
    "    plt.figure(figsize=(10, 5))\n",
    "    plt.subplot(1, 2, 1)\n",
    "    plt.title(\"Original Noisy Input\")\n",
    "    plt.imshow(inputs, cmap='gray')\n",
    "\n",
    "    plt.subplot(1, 2, 2)\n",
    "    plt.title(\"Reconstructed Signal\")\n",
    "    plt.imshow(outputs, cmap='gray')\n",
    "\n",
    "    plt.show()\n",
    "\n",
    "visualize_reconstruction(autoencoder, test_loader)"
   ]
  },
  {
   "cell_type": "code",
   "execution_count": null,
   "id": "110ae33a-fed1-49f3-9bfb-5ed9a227b893",
   "metadata": {},
   "outputs": [],
   "source": [
    "## Below we train on TPC 0 Col Plane data only ##"
   ]
  },
  {
   "cell_type": "code",
   "execution_count": 2,
   "id": "2dea834b-67b3-442a-a1eb-4c1d02d84071",
   "metadata": {},
   "outputs": [],
   "source": [
    "import numpy as np\n",
    "import torch\n",
    "from torch.utils.data import Dataset, DataLoader\n",
    "import torch.nn as nn\n",
    "import torch.optim as optim\n",
    "import os"
   ]
  },
  {
   "cell_type": "code",
   "execution_count": 3,
   "id": "f662aa1c-fae8-469a-aaf7-8367efa57caf",
   "metadata": {},
   "outputs": [],
   "source": [
    "# Load memmap files\n",
    "signal_memmap = np.memmap(\"signal.raw\", dtype=np.float32, mode='r', shape=(1000, 1280, 2128))\n",
    "noise_memmap = np.memmap(\"noise.raw\", dtype=np.float32, mode='r', shape=(1000, 1280, 2128))\n",
    "roi_memmap = np.load(\"roi.npy\")  # ROI is loaded directly\n",
    "\n",
    "# Extract only TPC 0 Plane Z (channels 800-1039)\n",
    "signal_data = signal_memmap[:, 800:1040, :]\n",
    "noise_data = noise_memmap[:, 800:1040, :]\n",
    "roi_data = roi_memmap[:, 800:1040, :]\n",
    "\n",
    "# Normalize input (optional, based on data distribution)\n",
    "signal_data = (signal_data - np.mean(signal_data)) / np.std(signal_data)\n",
    "noise_data = (noise_data - np.mean(noise_data)) / np.std(noise_data)\n",
    "\n",
    "# Reshape data to treat each channel separately\n",
    "# X: Input (Noise+Signal), Y: Output (ROI mask)\n",
    "X = noise_data[:, np.newaxis, :, :]  # Shape: (1000, 1, 240, 2128) -- note (1000 events, 1 image channel i.e. gray, 240 channels, 2128 time ticks)\n",
    "Y = roi_data[:, np.newaxis, :, :]    # Shape: (1000, 1, 240, 2128)"
   ]
  },
  {
   "cell_type": "code",
   "execution_count": 4,
   "id": "3968160e-9bab-4fe9-ab54-7ec0b3e43479",
   "metadata": {},
   "outputs": [],
   "source": [
    "class ROIDataset(Dataset):\n",
    "    def __init__(self, X, Y):\n",
    "        self.X = torch.tensor(X, dtype=torch.float32)\n",
    "        self.Y = torch.tensor(Y, dtype=torch.float32)\n",
    "\n",
    "    def __len__(self):\n",
    "        return len(self.X)\n",
    "\n",
    "    def __getitem__(self, idx):\n",
    "        return self.X[idx], self.Y[idx]\n",
    "\n",
    "# Define dataset\n",
    "dataset = ROIDataset(X, Y)\n",
    "\n",
    "# Train-validation-test split\n",
    "train_size = int(0.7 * len(dataset))\n",
    "val_size = int(0.15 * len(dataset))\n",
    "test_size = len(dataset) - train_size - val_size\n",
    "\n",
    "train_dataset, val_dataset, test_dataset = torch.utils.data.random_split(dataset, [train_size, val_size, test_size])\n",
    "\n",
    "# Create DataLoader\n",
    "batch_size = 8\n",
    "train_loader = DataLoader(train_dataset, batch_size=batch_size, shuffle=True)\n",
    "val_loader = DataLoader(val_dataset, batch_size=batch_size, shuffle=False)\n",
    "test_loader = DataLoader(test_dataset, batch_size=batch_size, shuffle=False)"
   ]
  },
  {
   "cell_type": "code",
   "execution_count": 6,
   "id": "d0b454fb-beb9-491e-b999-776a4f6af3e0",
   "metadata": {},
   "outputs": [
    {
     "name": "stdout",
     "output_type": "stream",
     "text": [
      "ROIFinder2D(\n",
      "  (conv1): Conv2d(1, 16, kernel_size=(5, 5), stride=(1, 1), padding=(2, 2))\n",
      "  (conv2): Conv2d(16, 32, kernel_size=(5, 5), stride=(1, 1), padding=(2, 2))\n",
      "  (conv3): Conv2d(32, 64, kernel_size=(5, 5), stride=(1, 1), padding=(2, 2))\n",
      "  (conv4): Conv2d(64, 128, kernel_size=(5, 5), stride=(1, 1), padding=(2, 2))\n",
      "  (upconv1): ConvTranspose2d(128, 64, kernel_size=(5, 5), stride=(1, 1), padding=(2, 2))\n",
      "  (upconv2): ConvTranspose2d(64, 32, kernel_size=(5, 5), stride=(1, 1), padding=(2, 2))\n",
      "  (upconv3): ConvTranspose2d(32, 16, kernel_size=(5, 5), stride=(1, 1), padding=(2, 2))\n",
      "  (final_conv): Conv2d(16, 1, kernel_size=(1, 1), stride=(1, 1))\n",
      ")\n"
     ]
    }
   ],
   "source": [
    "class ROIFinder2D(nn.Module):\n",
    "    def __init__(self):\n",
    "        super(ROIFinder2D, self).__init__()\n",
    "        self.conv1 = nn.Conv2d(1, 16, kernel_size=5, padding=2)\n",
    "        self.conv2 = nn.Conv2d(16, 32, kernel_size=5, padding=2)\n",
    "        self.conv3 = nn.Conv2d(32, 64, kernel_size=5, padding=2)\n",
    "        self.conv4 = nn.Conv2d(64, 128, kernel_size=5, padding=2)\n",
    "\n",
    "        self.upconv1 = nn.ConvTranspose2d(128, 64, kernel_size=5, padding=2)\n",
    "        self.upconv2 = nn.ConvTranspose2d(64, 32, kernel_size=5, padding=2)\n",
    "        self.upconv3 = nn.ConvTranspose2d(32, 16, kernel_size=5, padding=2)\n",
    "        self.final_conv = nn.Conv2d(16, 1, kernel_size=1)  # Match output shape\n",
    "\n",
    "    def forward(self, x):\n",
    "        # Encoder\n",
    "        x = torch.relu(self.conv1(x))  # (B, 16, 240, 2128)\n",
    "        x = torch.relu(self.conv2(x))  # (B, 32, 240, 2128)\n",
    "        x = torch.relu(self.conv3(x))  # (B, 64, 240, 2128)\n",
    "        x = torch.relu(self.conv4(x))  # (B, 128, 240, 2128)\n",
    "\n",
    "        # Decoder\n",
    "        x = torch.relu(self.upconv1(x))  # (B, 64, 240, 2128)\n",
    "        x = torch.relu(self.upconv2(x))  # (B, 32, 240, 2128)\n",
    "        x = torch.relu(self.upconv3(x))  # (B, 16, 240, 2128)\n",
    "        x = self.final_conv(x)          # (B, 1, 240, 2128)\n",
    "\n",
    "        return torch.sigmoid(x)  # Output probability mask\n",
    "\n",
    "# Initialize model\n",
    "device = torch.device(\"cuda\" if torch.cuda.is_available() else \"cpu\")\n",
    "model = ROIFinder2D().to(device)\n",
    "\n",
    "print(model)"
   ]
  },
  {
   "cell_type": "code",
   "execution_count": 9,
   "id": "71677407-c11e-4e07-89be-2e3991f4179f",
   "metadata": {},
   "outputs": [
    {
     "name": "stdout",
     "output_type": "stream",
     "text": [
      "Starting training from scratch...\n",
      "Epoch 1/10, Train Loss: 0.6997, Val Loss: 0.6931\n",
      "Checkpoint saved at epoch 1\n",
      "Epoch 2/10, Train Loss: 0.6931, Val Loss: 0.6931\n",
      "Checkpoint saved at epoch 2\n",
      "Epoch 3/10, Train Loss: 0.6931, Val Loss: 0.6931\n",
      "Checkpoint saved at epoch 3\n",
      "Epoch 4/10, Train Loss: 0.6931, Val Loss: 0.6931\n",
      "Checkpoint saved at epoch 4\n",
      "Epoch 5/10, Train Loss: 0.6931, Val Loss: 0.6931\n",
      "Checkpoint saved at epoch 5\n",
      "Epoch 6/10, Train Loss: 0.6931, Val Loss: 0.6931\n",
      "Checkpoint saved at epoch 6\n",
      "Epoch 7/10, Train Loss: 0.6931, Val Loss: 0.6931\n",
      "Checkpoint saved at epoch 7\n",
      "Epoch 8/10, Train Loss: 0.6931, Val Loss: 0.6931\n",
      "Checkpoint saved at epoch 8\n",
      "Epoch 9/10, Train Loss: 0.6931, Val Loss: 0.6931\n",
      "Checkpoint saved at epoch 9\n",
      "Epoch 10/10, Train Loss: 0.6931, Val Loss: 0.6931\n",
      "Checkpoint saved at epoch 10\n"
     ]
    },
    {
     "data": {
      "image/png": "[encoded data removed]",
      "text/plain": [
       "<Figure size 640x480 with 1 Axes>"
      ]
     },
     "metadata": {},
     "output_type": "display_data"
    }
   ],
   "source": [
    "import matplotlib.pyplot as plt\n",
    "\n",
    "# Define Loss and Optimizer\n",
    "criterion = nn.BCEWithLogitsLoss()\n",
    "optimizer = optim.Adam(model.parameters(), lr=0.001)\n",
    "\n",
    "# Tracking loss values\n",
    "train_losses = []\n",
    "val_losses = []\n",
    "\n",
    "# Path to save the checkpoint\n",
    "checkpoint_path = \"roi_finder_checkpoint.pth\"\n",
    "\n",
    "# Check if a checkpoint exists and load it\n",
    "if os.path.exists(checkpoint_path):\n",
    "    checkpoint = torch.load(checkpoint_path)\n",
    "    model.load_state_dict(checkpoint['model_state_dict'])\n",
    "    optimizer.load_state_dict(checkpoint['optimizer_state_dict'])\n",
    "    start_epoch = checkpoint['epoch']\n",
    "    print(f\"Resuming training from epoch {start_epoch}...\")\n",
    "else:\n",
    "    start_epoch = 0\n",
    "    print(\"Starting training from scratch...\")\n",
    "\n",
    "# Training loop\n",
    "num_epochs = 10\n",
    "for epoch in range(start_epoch, num_epochs):\n",
    "    model.train()\n",
    "    total_loss = 0\n",
    "\n",
    "    for batch_X, batch_Y in train_loader:\n",
    "        batch_X, batch_Y = batch_X.to(device), batch_Y.to(device)\n",
    "\n",
    "        optimizer.zero_grad()\n",
    "        outputs = model(batch_X)\n",
    "\n",
    "        loss = criterion(outputs, batch_Y)  # No need to squeeze for 2D output\n",
    "\n",
    "        # print out loss during training \n",
    "        \n",
    "        loss.backward()\n",
    "        optimizer.step()\n",
    "\n",
    "        total_loss += loss.item()\n",
    "\n",
    "    avg_train_loss = total_loss / len(train_loader)\n",
    "    train_losses.append(avg_train_loss)\n",
    "\n",
    "    # Validation step\n",
    "    model.eval()\n",
    "    val_loss = 0\n",
    "    with torch.no_grad():\n",
    "        for batch_X, batch_Y in val_loader:\n",
    "            batch_X, batch_Y = batch_X.to(device), batch_Y.to(device)\n",
    "            outputs = model(batch_X)\n",
    "            loss = criterion(outputs, batch_Y)\n",
    "            val_loss += loss.item()\n",
    "\n",
    "    avg_val_loss = val_loss / len(val_loader)\n",
    "    val_losses.append(avg_val_loss)\n",
    "\n",
    "    print(f\"Epoch {epoch+1}/{num_epochs}, Train Loss: {avg_train_loss:.4f}, Val Loss: {avg_val_loss:.4f}\")\n",
    "\n",
    "    checkpoint = {\n",
    "        'epoch': epoch + 1,\n",
    "        'model_state_dict': model.state_dict(),\n",
    "        'optimizer_state_dict': optimizer.state_dict(),\n",
    "    }\n",
    "    torch.save(checkpoint, checkpoint_path)\n",
    "    print(f\"Checkpoint saved at epoch {epoch + 1}\")\n",
    "\n",
    "# Plot training and validation loss\n",
    "plt.plot(range(1, num_epochs + 1), train_losses, label=\"Train Loss\")\n",
    "plt.plot(range(1, num_epochs + 1), val_losses, label=\"Validation Loss\")\n",
    "plt.xlabel(\"Epoch\")\n",
    "plt.ylabel(\"Loss\")\n",
    "plt.title(\"Training and Validation Loss per Epoch\")\n",
    "plt.legend()\n",
    "plt.show()\n",
    "\n",
    "# Save the trained model\n",
    "torch.save(model.state_dict(), \"roi_finder.pth\")"
   ]
  },
  {
   "cell_type": "code",
   "execution_count": null,
   "id": "45a451f4-defa-4cc9-9b74-0f41635318a6",
   "metadata": {},
   "outputs": [],
   "source": [
    "## Time to evaluate the performance of the model ##"
   ]
  },
  {
   "cell_type": "code",
   "execution_count": 11,
   "id": "b678a31c-e968-4d0b-957f-9091954b4075",
   "metadata": {},
   "outputs": [
    {
     "data": {
      "text/plain": [
       "ROIFinder2D(\n",
       "  (conv1): Conv2d(1, 16, kernel_size=(5, 5), stride=(1, 1), padding=(2, 2))\n",
       "  (conv2): Conv2d(16, 32, kernel_size=(5, 5), stride=(1, 1), padding=(2, 2))\n",
       "  (conv3): Conv2d(32, 64, kernel_size=(5, 5), stride=(1, 1), padding=(2, 2))\n",
       "  (conv4): Conv2d(64, 128, kernel_size=(5, 5), stride=(1, 1), padding=(2, 2))\n",
       "  (upconv1): ConvTranspose2d(128, 64, kernel_size=(5, 5), stride=(1, 1), padding=(2, 2))\n",
       "  (upconv2): ConvTranspose2d(64, 32, kernel_size=(5, 5), stride=(1, 1), padding=(2, 2))\n",
       "  (upconv3): ConvTranspose2d(32, 16, kernel_size=(5, 5), stride=(1, 1), padding=(2, 2))\n",
       "  (final_conv): Conv2d(16, 1, kernel_size=(1, 1), stride=(1, 1))\n",
       ")"
      ]
     },
     "execution_count": 11,
     "metadata": {},
     "output_type": "execute_result"
    }
   ],
   "source": [
    "#Load the ROI finder and put it in evaluation mode\n",
    "#device = torch.device(\"cuda\" if torch.cuda.is_available() else \"cpu\")\n",
    "#roi_finder = torch.load(\"roi_finder.pth\", map_location=device)\n",
    "#roi_finder.eval()\n",
    "#model.eval()\n",
    "roi_finder = model\n",
    "roi_finder.eval()"
   ]
  },
  {
   "cell_type": "code",
   "execution_count": 12,
   "id": "71c180f0-6764-4414-84f3-4bb506f35b27",
   "metadata": {},
   "outputs": [],
   "source": [
    "y_true_list = []\n",
    "y_pred_list = []\n",
    "\n",
    "# Set the model to evaluation mode\n",
    "roi_finder.eval()\n",
    "\n",
    "with torch.no_grad():  # Disable gradient computation for inference\n",
    "    for X_batch, Y_batch in test_loader:\n",
    "        X_batch = X_batch.to(device)  # Move to GPU if available\n",
    "        Y_batch = Y_batch.to(device)\n",
    "\n",
    "        # Get model predictions (logits) - Shape: (batch_size, 1, 240, 2128)\n",
    "        Y_pred_batch = roi_finder(X_batch)\n",
    "\n",
    "        # Apply threshold to get binary predictions\n",
    "        Y_pred_binary = (Y_pred_batch > 0.5).cpu().numpy().astype(np.uint8)  # Convert to numpy\n",
    "\n",
    "        # Store true and predicted values\n",
    "        y_true_list.append(Y_batch.cpu().numpy().astype(np.uint8))\n",
    "        y_pred_list.append(Y_pred_binary)\n",
    "\n",
    "# Concatenate all batches along the first axis\n",
    "y_true = np.concatenate(y_true_list, axis=0)  # Shape: (num_test_samples, 1, 240, 2128)\n",
    "y_pred = np.concatenate(y_pred_list, axis=0)  # Shape: (num_test_samples, 1, 240, 2128)"
   ]
  },
  {
   "cell_type": "code",
   "execution_count": 20,
   "id": "b6c2b633-b11a-4d25-bed2-f7e48b47f0cf",
   "metadata": {},
   "outputs": [
    {
     "name": "stdout",
     "output_type": "stream",
     "text": [
      "(36000, 1, 2128)\n",
      "(36000, 2128)\n"
     ]
    }
   ],
   "source": [
    "print(np.shape(y_true))\n",
    "print(np.shape(y_pred))"
   ]
  },
  {
   "cell_type": "code",
   "execution_count": 13,
   "id": "0119bf9b-d2df-481e-b176-ca0f209b9630",
   "metadata": {},
   "outputs": [],
   "source": [
    "y_true_flat = y_true.flatten()  # Shape: (num_test_samples * 2128,)\n",
    "y_pred_flat = y_pred.flatten()  # Shape: (num_test_samples * 2128,)"
   ]
  },
  {
   "cell_type": "code",
   "execution_count": 14,
   "id": "f7ed4397-c488-4387-90fb-2782fdbcde82",
   "metadata": {},
   "outputs": [
    {
     "name": "stdout",
     "output_type": "stream",
     "text": [
      "(76608000,)\n",
      "(76608000,)\n"
     ]
    }
   ],
   "source": [
    "print(np.shape(y_true_flat))\n",
    "print(np.shape(y_pred_flat))"
   ]
  },
  {
   "cell_type": "code",
   "execution_count": 15,
   "id": "79205e81-dbd6-488d-9a18-415d1910a0b7",
   "metadata": {},
   "outputs": [
    {
     "name": "stderr",
     "output_type": "stream",
     "text": [
      "/opt/conda/lib/python3.10/site-packages/sklearn/metrics/_classification.py:1565: UndefinedMetricWarning: Precision is ill-defined and being set to 0.0 due to no predicted samples. Use `zero_division` parameter to control this behavior.\n",
      "  _warn_prf(average, modifier, f\"{metric.capitalize()} is\", len(result))\n"
     ]
    },
    {
     "name": "stdout",
     "output_type": "stream",
     "text": [
      "Precision: 0.0000\n",
      "Recall: 0.0000\n",
      "F1 Score: 0.0000\n",
      "Confusion Matrix:\n",
      " [[76605311        0]\n",
      " [    2689        0]]\n"
     ]
    }
   ],
   "source": [
    "from sklearn.metrics import precision_recall_curve, confusion_matrix, f1_score, precision_score, recall_score\n",
    "\n",
    "precision = precision_score(y_true_flat, y_pred_flat)\n",
    "recall = recall_score(y_true_flat, y_pred_flat)\n",
    "f1 = f1_score(y_true_flat, y_pred_flat)\n",
    "\n",
    "print(f\"Precision: {precision:.4f}\")\n",
    "print(f\"Recall: {recall:.4f}\")\n",
    "print(f\"F1 Score: {f1:.4f}\")\n",
    "\n",
    "# Confusion Matrix\n",
    "cm = confusion_matrix(y_true_flat, y_pred_flat)\n",
    "print(\"Confusion Matrix:\\n\", cm)"
   ]
  },
  {
   "cell_type": "code",
   "execution_count": 16,
   "id": "84b57c37-fea4-4583-941a-b7c5066dcc3f",
   "metadata": {},
   "outputs": [
    {
     "name": "stdout",
     "output_type": "stream",
     "text": [
      "IoU Score: 0.0000\n"
     ]
    }
   ],
   "source": [
    "def iou(y_true, y_pred):\n",
    "    intersection = np.logical_and(y_true, y_pred).sum()\n",
    "    union = np.logical_or(y_true, y_pred).sum()\n",
    "    return intersection / union if union > 0 else 0\n",
    "\n",
    "iou_score = iou(y_true_flat, y_pred_flat)\n",
    "print(f\"IoU Score: {iou_score:.4f}\")"
   ]
  },
  {
   "cell_type": "code",
   "execution_count": 11,
   "id": "1e5d0e5f-4c0e-4d53-8030-1f51fc3e544e",
   "metadata": {},
   "outputs": [],
   "source": [
    "## Visualize evaluation ##"
   ]
  },
  {
   "cell_type": "code",
   "execution_count": 14,
   "id": "63690eee-0049-4a4f-81b8-59e8e0a5bd56",
   "metadata": {},
   "outputs": [
    {
     "name": "stdout",
     "output_type": "stream",
     "text": [
      "Defaulting to user installation because normal site-packages is not writeable\n",
      "Collecting seaborn\n",
      "  Downloading seaborn-0.13.2-py3-none-any.whl.metadata (5.4 kB)\n",
      "Requirement already satisfied: numpy!=1.24.0,>=1.20 in /home/mking/.local/lib/python3.10/site-packages (from seaborn) (2.2.2)\n",
      "Requirement already satisfied: pandas>=1.2 in /opt/conda/lib/python3.10/site-packages (from seaborn) (2.2.3)\n",
      "Requirement already satisfied: matplotlib!=3.6.1,>=3.4 in /home/mking/.local/lib/python3.10/site-packages (from seaborn) (3.10.0)\n",
      "Requirement already satisfied: contourpy>=1.0.1 in /home/mking/.local/lib/python3.10/site-packages (from matplotlib!=3.6.1,>=3.4->seaborn) (1.3.1)\n",
      "Requirement already satisfied: cycler>=0.10 in /home/mking/.local/lib/python3.10/site-packages (from matplotlib!=3.6.1,>=3.4->seaborn) (0.12.1)\n",
      "Requirement already satisfied: fonttools>=4.22.0 in /home/mking/.local/lib/python3.10/site-packages (from matplotlib!=3.6.1,>=3.4->seaborn) (4.55.7)\n",
      "Requirement already satisfied: kiwisolver>=1.3.1 in /home/mking/.local/lib/python3.10/site-packages (from matplotlib!=3.6.1,>=3.4->seaborn) (1.4.8)\n",
      "Requirement already satisfied: packaging>=20.0 in /opt/conda/lib/python3.10/site-packages (from matplotlib!=3.6.1,>=3.4->seaborn) (24.2)\n",
      "Requirement already satisfied: pillow>=8 in /home/mking/.local/lib/python3.10/site-packages (from matplotlib!=3.6.1,>=3.4->seaborn) (11.1.0)\n",
      "Requirement already satisfied: pyparsing>=2.3.1 in /home/mking/.local/lib/python3.10/site-packages (from matplotlib!=3.6.1,>=3.4->seaborn) (3.2.1)\n",
      "Requirement already satisfied: python-dateutil>=2.7 in /opt/conda/lib/python3.10/site-packages (from matplotlib!=3.6.1,>=3.4->seaborn) (2.9.0.post0)\n",
      "Requirement already satisfied: pytz>=2020.1 in /opt/conda/lib/python3.10/site-packages (from pandas>=1.2->seaborn) (2024.1)\n",
      "Requirement already satisfied: tzdata>=2022.7 in /opt/conda/lib/python3.10/site-packages (from pandas>=1.2->seaborn) (2025.1)\n",
      "Requirement already satisfied: six>=1.5 in /opt/conda/lib/python3.10/site-packages (from python-dateutil>=2.7->matplotlib!=3.6.1,>=3.4->seaborn) (1.17.0)\n",
      "Downloading seaborn-0.13.2-py3-none-any.whl (294 kB)\n",
      "Installing collected packages: seaborn\n",
      "Successfully installed seaborn-0.13.2\n"
     ]
    }
   ],
   "source": [
    "!pip install seaborn"
   ]
  },
  {
   "cell_type": "code",
   "execution_count": 17,
   "id": "9ecb95d5-3042-4e3f-a18c-a59dc8f6d753",
   "metadata": {},
   "outputs": [
    {
     "data": {
      "image/png": "[encoded data removed]",
      "text/plain": [
       "<Figure size 600x500 with 2 Axes>"
      ]
     },
     "metadata": {},
     "output_type": "display_data"
    }
   ],
   "source": [
    "import seaborn as sns\n",
    "# --- Confusion Matrix Visualization ---\n",
    "plt.figure(figsize=(6,5))\n",
    "sns.heatmap(cm, annot=True, fmt=\"d\", cmap=\"Blues\", xticklabels=[\"ROI 0\", \"ROI 1\"], yticklabels=[\"ROI 0\", \"ROI 1\"])\n",
    "plt.xlabel(\"Predicted\")\n",
    "plt.ylabel(\"Actual\")\n",
    "plt.title(\"Confusion Matrix\")\n",
    "plt.show()"
   ]
  },
  {
   "cell_type": "code",
   "execution_count": 17,
   "id": "23cec5f2-44f8-40f8-9879-e48ed23b5186",
   "metadata": {},
   "outputs": [
    {
     "data": {
      "image/png": "[encoded data removed]",
      "text/plain": [
       "<Figure size 600x500 with 1 Axes>"
      ]
     },
     "metadata": {},
     "output_type": "display_data"
    }
   ],
   "source": [
    "from sklearn.metrics import precision_recall_curve, confusion_matrix, f1_score, precision_score, recall_score\n",
    "# --- Precision-Recall Curve ---\n",
    "precisions, recalls, thresholds = precision_recall_curve(y_true_flat, y_pred_flat)\n",
    "\n",
    "plt.figure(figsize=(6,5))\n",
    "plt.plot(recalls, precisions, marker='.', label='Precision-Recall Curve')\n",
    "plt.xlabel('Recall')\n",
    "plt.ylabel('Precision')\n",
    "plt.title('Precision-Recall Curve')\n",
    "plt.legend()\n",
    "plt.grid()\n",
    "plt.show()\n"
   ]
  },
  {
   "cell_type": "code",
   "execution_count": 18,
   "id": "193247c7-f63f-443c-8852-28ee08a23cd0",
   "metadata": {},
   "outputs": [
    {
     "name": "stdout",
     "output_type": "stream",
     "text": [
      "IoU Score: 0.0000\n"
     ]
    }
   ],
   "source": [
    "# --- IoU Calculation and Visualization ---\n",
    "def iou(y_true, y_pred):\n",
    "    intersection = np.logical_and(y_true, y_pred).sum()\n",
    "    union = np.logical_or(y_true, y_pred).sum()\n",
    "    return intersection / union if union > 0 else 0\n",
    "\n",
    "iou_score = iou(y_true_flat, y_pred_flat)\n",
    "print(f\"IoU Score: {iou_score:.4f}\")"
   ]
  },
  {
   "cell_type": "code",
   "execution_count": 19,
   "id": "5e6efb5e-dca3-476e-8c61-11ba8f290383",
   "metadata": {},
   "outputs": [
    {
     "ename": "IndexError",
     "evalue": "too many indices for array: array is 2-dimensional, but 3 were indexed",
     "output_type": "error",
     "traceback": [
      "\u001b[0;31m---------------------------------------------------------------------------\u001b[0m",
      "\u001b[0;31mIndexError\u001b[0m                                Traceback (most recent call last)",
      "Cell \u001b[0;32mIn[19], line 11\u001b[0m\n\u001b[1;32m      8\u001b[0m plt\u001b[38;5;241m.\u001b[39mxlabel(\u001b[38;5;124m\"\u001b[39m\u001b[38;5;124mTime Step\u001b[39m\u001b[38;5;124m\"\u001b[39m)\n\u001b[1;32m     10\u001b[0m plt\u001b[38;5;241m.\u001b[39msubplot(\u001b[38;5;241m1\u001b[39m, \u001b[38;5;241m2\u001b[39m, \u001b[38;5;241m2\u001b[39m)\n\u001b[0;32m---> 11\u001b[0m plt\u001b[38;5;241m.\u001b[39mimshow(\u001b[43my_pred\u001b[49m\u001b[43m[\u001b[49m\u001b[43msample_idx\u001b[49m\u001b[43m,\u001b[49m\u001b[43m \u001b[49m\u001b[38;5;241;43m0\u001b[39;49m\u001b[43m,\u001b[49m\u001b[43m \u001b[49m\u001b[43m:\u001b[49m\u001b[43m]\u001b[49m\u001b[38;5;241m.\u001b[39mreshape(\u001b[38;5;241m1\u001b[39m, \u001b[38;5;241m-\u001b[39m\u001b[38;5;241m1\u001b[39m), cmap\u001b[38;5;241m=\u001b[39m\u001b[38;5;124m\"\u001b[39m\u001b[38;5;124mgray\u001b[39m\u001b[38;5;124m\"\u001b[39m, aspect\u001b[38;5;241m=\u001b[39m\u001b[38;5;124m\"\u001b[39m\u001b[38;5;124mauto\u001b[39m\u001b[38;5;124m\"\u001b[39m)\n\u001b[1;32m     12\u001b[0m plt\u001b[38;5;241m.\u001b[39mtitle(\u001b[38;5;124m\"\u001b[39m\u001b[38;5;124mPredicted ROI\u001b[39m\u001b[38;5;124m\"\u001b[39m)\n\u001b[1;32m     13\u001b[0m plt\u001b[38;5;241m.\u001b[39mxlabel(\u001b[38;5;124m\"\u001b[39m\u001b[38;5;124mTime Step\u001b[39m\u001b[38;5;124m\"\u001b[39m)\n",
      "\u001b[0;31mIndexError\u001b[0m: too many indices for array: array is 2-dimensional, but 3 were indexed"
     ]
    },
    {
     "data": {
      "image/png": "[encoded data removed]",
      "text/plain": [
       "<Figure size 1000x400 with 2 Axes>"
      ]
     },
     "metadata": {},
     "output_type": "display_data"
    }
   ],
   "source": [
    "# --- Visualizing an Example ROI ---\n",
    "sample_idx = np.random.randint(len(y_true))  # Pick a random sample\n",
    "plt.figure(figsize=(10, 4))\n",
    "\n",
    "plt.subplot(1, 2, 1)\n",
    "plt.imshow(y_true[sample_idx, 0, :].reshape(1, -1), cmap=\"gray\", aspect=\"auto\")\n",
    "plt.title(\"Ground Truth ROI\")\n",
    "plt.xlabel(\"Time Step\")\n",
    "\n",
    "plt.subplot(1, 2, 2)\n",
    "plt.imshow(y_pred[sample_idx, 0, :].reshape(1, -1), cmap=\"gray\", aspect=\"auto\")\n",
    "plt.title(\"Predicted ROI\")\n",
    "plt.xlabel(\"Time Step\")\n",
    "\n",
    "plt.show()"
   ]
  },
  {
   "cell_type": "code",
   "execution_count": null,
   "id": "7ff7368b-e8ea-4ea6-87d2-edcb61c735a1",
   "metadata": {},
   "outputs": [],
   "source": [
    "# Autoencoder #"
   ]
  },
  {
   "cell_type": "code",
   "execution_count": null,
   "id": "a2d5d14d-b059-409d-829b-cd677b5d2b68",
   "metadata": {},
   "outputs": [],
   "source": [
    "class Autoencoder(nn.Module):\n",
    "    def __init__(self):\n",
    "        super(Autoencoder, self).__init__()\n",
    "        \n",
    "        # Encoder\n",
    "        self.encoder = nn.Sequential(\n",
    "            nn.Conv1d(1, 16, kernel_size=5, stride=2, padding=2),  # Output: (16, 1064)\n",
    "            nn.ReLU(),\n",
    "            nn.Conv1d(16, 32, kernel_size=5, stride=2, padding=2), # Output: (32, 532)\n",
    "            nn.ReLU(),\n",
    "            nn.Conv1d(32, 64, kernel_size=5, stride=2, padding=2), # Output: (64, 266)\n",
    "            nn.ReLU()\n",
    "        )\n",
    "        \n",
    "        # Decoder\n",
    "        self.decoder = nn.Sequential(\n",
    "            nn.ConvTranspose1d(64, 32, kernel_size=5, stride=2, padding=2, output_padding=1), # Output: (32, 532)\n",
    "            nn.ReLU(),\n",
    "            nn.ConvTranspose1d(32, 16, kernel_size=5, stride=2, padding=2, output_padding=1), # Output: (16, 1064)\n",
    "            nn.ReLU(),\n",
    "            nn.ConvTranspose1d(16, 1, kernel_size=5, stride=2, padding=2, output_padding=1), # Output: (1, 2128)\n",
    "            nn.Tanh()  # Normalize output between -1 and 1\n",
    "        )\n",
    "\n",
    "    def forward(self, x):\n",
    "        encoded = self.encoder(x)\n",
    "        decoded = self.decoder(encoded)\n",
    "        return decoded\n",
    "\n",
    "# Initialize the autoencoder model\n",
    "autoencoder = Autoencoder().to(device)"
   ]
  },
  {
   "cell_type": "code",
   "execution_count": null,
   "id": "d4e2a030-c8b5-4edc-b241-1fd8293abdf3",
   "metadata": {},
   "outputs": [],
   "source": [
    "# Input: noise+signal, Output: clean signal\n",
    "X_autoencoder = noise_data.reshape(num_events * num_channels, 1, num_timesteps)\n",
    "Y_autoencoder = signal_data.reshape(num_events * num_channels, 1, num_timesteps)\n",
    "\n",
    "# Define dataset\n",
    "autoencoder_dataset = ROIDataset(X_autoencoder, Y_autoencoder)\n",
    "\n",
    "# Train-validation-test split\n",
    "train_size = int(0.7 * len(autoencoder_dataset))\n",
    "val_size = int(0.15 * len(autoencoder_dataset))\n",
    "test_size = len(autoencoder_dataset) - train_size - val_size\n",
    "\n",
    "train_dataset, val_dataset, test_dataset = torch.utils.data.random_split(autoencoder_dataset, [train_size, val_size, test_size])\n",
    "\n",
    "# Create DataLoader\n",
    "train_loader = DataLoader(train_dataset, batch_size=batch_size, shuffle=True)\n",
    "val_loader = DataLoader(val_dataset, batch_size=batch_size, shuffle=False)\n",
    "test_loader = DataLoader(test_dataset, batch_size=batch_size, shuffle=False)"
   ]
  },
  {
   "cell_type": "code",
   "execution_count": null,
   "id": "a95e8285-c891-425c-9345-7aa0b9fb82ec",
   "metadata": {},
   "outputs": [],
   "source": [
    "# Define loss and optimizer\n",
    "criterion = nn.MSELoss()\n",
    "optimizer = optim.Adam(autoencoder.parameters(), lr=0.001)\n",
    "\n",
    "# Track loss values\n",
    "train_losses = []\n",
    "val_losses = []\n",
    "\n",
    "# Training loop\n",
    "num_epochs = 20\n",
    "for epoch in range(num_epochs):\n",
    "    autoencoder.train()\n",
    "    total_loss = 0\n",
    "\n",
    "    for batch_X, batch_Y in train_loader:\n",
    "        batch_X, batch_Y = batch_X.to(device), batch_Y.to(device)\n",
    "\n",
    "        optimizer.zero_grad()\n",
    "        outputs = autoencoder(batch_X)\n",
    "\n",
    "        loss = criterion(outputs, batch_Y)\n",
    "        loss.backward()\n",
    "        optimizer.step()\n",
    "\n",
    "        total_loss += loss.item()\n",
    "\n",
    "    avg_train_loss = total_loss / len(train_loader)\n",
    "    train_losses.append(avg_train_loss)\n",
    "\n",
    "    # Validation step\n",
    "    autoencoder.eval()\n",
    "    val_loss = 0\n",
    "    with torch.no_grad():\n",
    "        for batch_X, batch_Y in val_loader:\n",
    "            batch_X, batch_Y = batch_X.to(device), batch_Y.to(device)\n",
    "            outputs = autoencoder(batch_X)\n",
    "            loss = criterion(outputs, batch_Y)\n",
    "            val_loss += loss.item()\n",
    "\n",
    "    avg_val_loss = val_loss / len(val_loader)\n",
    "    val_losses.append(avg_val_loss)\n",
    "\n",
    "    print(f\"Epoch {epoch+1}/{num_epochs}, Train Loss: {avg_train_loss:.4f}, Val Loss: {avg_val_loss:.4f}\")\n",
    "\n",
    "# Plot training and validation loss\n",
    "plt.plot(range(1, num_epochs + 1), train_losses, label=\"Train Loss\")\n",
    "plt.plot(range(1, num_epochs + 1), val_losses, label=\"Validation Loss\")\n",
    "plt.xlabel(\"Epoch\")\n",
    "plt.ylabel(\"Loss\")\n",
    "plt.title(\"Autoencoder Training and Validation Loss per Epoch\")\n",
    "plt.legend()\n",
    "plt.show()\n",
    "\n",
    "# Save the trained model\n",
    "torch.save(autoencoder.state_dict(), \"autoencoder.pth\")"
   ]
  }
 ],
 "metadata": {
  "kernelspec": {
   "display_name": "Python 3 (ipykernel)",
   "language": "python",
   "name": "python3"
  },
  "language_info": {
   "codemirror_mode": {
    "name": "ipython",
    "version": 3
   },
   "file_extension": ".py",
   "mimetype": "text/x-python",
   "name": "python",
   "nbconvert_exporter": "python",
   "pygments_lexer": "ipython3",
   "version": "3.10.16"
  }
 },
 "nbformat": 4,
 "nbformat_minor": 5
}
